{
 "cells": [
  {
   "cell_type": "markdown",
   "id": "e45ea5d6-4185-41d7-9bec-f39c36c363ae",
   "metadata": {},
   "source": [
    "# Setup / Imports"
   ]
  },
  {
   "cell_type": "code",
   "execution_count": 120,
   "id": "8691fadb-5a5c-4b5f-ad47-d8c64ee9da43",
   "metadata": {},
   "outputs": [],
   "source": [
    "# Importing necessary functions\n",
    "# https://www.geeksforgeeks.org/python-data-augmentation/\n",
    "from keras.preprocessing.image import ImageDataGenerator\n",
    "from tensorflow.keras.utils import array_to_img, img_to_array, load_img\n",
    "import numpy as np\n",
    "from collections import deque\n",
    "import random\n",
    "from pathlib import Path  # to get filenames without extensions\n",
    "import shutil  # to copy files\n",
    "import string\n",
    "from tqdm import tqdm"
   ]
  },
  {
   "cell_type": "code",
   "execution_count": 121,
   "id": "688212d1-b075-4a6a-bc41-426850997864",
   "metadata": {},
   "outputs": [],
   "source": [
    "import os\n",
    "cwd = os.getcwd()"
   ]
  },
  {
   "cell_type": "markdown",
   "id": "a15b8eac-06df-4c7c-b823-0816484a5974",
   "metadata": {},
   "source": [
    "# Generating Background Data"
   ]
  },
  {
   "cell_type": "markdown",
   "id": "fbbf250e-3454-4d01-a147-caea3e91c4b7",
   "metadata": {},
   "source": [
    "`frame_images_DB` can be downloaded from "
   ]
  },
  {
   "cell_type": "code",
   "execution_count": 123,
   "id": "c6bc2107-9acb-4249-b38d-954b1d172cd3",
   "metadata": {
    "scrolled": true
   },
   "outputs": [],
   "source": [
    "background_base_path = os.path.join(cwd, \"frame_images_DB\")\n",
    "output_background_base_path = os.path.join(cwd, \"backgrounds\")\n",
    "os.makedirs(output_background_base_path)\n",
    "iter = 0\n",
    "for subfolder in os.listdir(background_base_path):\n",
    "    if '.' not in subfolder: # is a folder and not a file\n",
    "        subf_path = os.path.join(background_base_path, subfolder)\n",
    "        for video_folder in os.listdir(subf_path):\n",
    "            vidf_path = os.path.join(subf_path, video_folder)\n",
    "            random_frame = random.choice(os.listdir(vidf_path))\n",
    "            shutil.copyfile(os.path.join(vidf_path, random_frame), os.path.join(output_background_base_path, \"bg_1_\" + str(iter) + \".jpg\"))\n",
    "            iter += 1"
   ]
  },
  {
   "cell_type": "markdown",
   "id": "4a74c44a-424e-4af1-8317-226fc45bf26b",
   "metadata": {},
   "source": [
    "# Generating Data with Hands"
   ]
  },
  {
   "cell_type": "code",
   "execution_count": 124,
   "id": "df443d6e-e07e-44a1-a4fb-bf2b11a3003c",
   "metadata": {},
   "outputs": [],
   "source": [
    "# Initialising the ImageDataGenerator class.\n",
    "# We will pass in the augmentation parameters in the constructor.\n",
    "# https://www.tensorflow.org/api_docs/python/tf/keras/preprocessing/image/ImageDataGenerator\n",
    "datagen = ImageDataGenerator(\n",
    "        rotation_range = 25,\n",
    "        # width_shift_range = 10,\n",
    "        # height_shift_range = 10,  # irrelevant as image will be placed in a larger image\n",
    "        brightness_range = (0.3, 1.7),\n",
    "        shear_range = 0.2,\n",
    "        zoom_range = 0.4,\n",
    "        fill_mode=\"constant\",\n",
    "        cval = 0, # fill deformed pixels with black by default\n",
    "        horizontal_flip = False,  # direction matters in sign language!\n",
    "        vertical_flip = False  # direction matters in sign language!\n",
    ")"
   ]
  },
  {
   "cell_type": "code",
   "execution_count": 125,
   "id": "171c6d64-dd08-499e-b9bb-00fd0ba1da55",
   "metadata": {},
   "outputs": [],
   "source": [
    "def get_nonzero_sub_image(image):\n",
    "    # takes away rows and columns from the border of an image that are entirely black\n",
    "    # returns top left and bottom right corner of resulting sub-image\n",
    "    min_row = 0\n",
    "    stop_iteration = False\n",
    "    for row in range(0,image.shape[0]):\n",
    "        if np.max(image[row,:,:] != 0):\n",
    "            min_row = row\n",
    "            break\n",
    "    min_col = 0\n",
    "    for col in range(0,image.shape[1]):\n",
    "        if np.max(image[:,col,:] != 0):\n",
    "            min_col = col\n",
    "            break\n",
    "    max_row = deformed_image.shape[0]\n",
    "    for row in range(image.shape[0]-1, -1, -1):\n",
    "        if np.max(image[row,:,:] != 0):\n",
    "            max_row = row\n",
    "            break\n",
    "    max_col = deformed_image.shape[1]\n",
    "    for col in range(image.shape[1]-1,-1,-1):\n",
    "        if np.max(image[:,col,:] != 0):\n",
    "            max_col = col\n",
    "            break\n",
    "    return (min_row, min_col, max_row, max_col)"
   ]
  },
  {
   "cell_type": "code",
   "execution_count": 126,
   "id": "0b37b300-1503-4a6f-8765-b413d87c9df0",
   "metadata": {},
   "outputs": [],
   "source": [
    "def threshold_dark_background(image, norm_threshold=110):\n",
    "    # will take away all contiguous dark regions on borders of image\n",
    "    # \"dark\" being any pixel with a norm less than the threshold\n",
    "    pixels_to_visit = deque()\n",
    "    visited_pixels = set()\n",
    "    for row in range(image.shape[0]):\n",
    "        pixels_to_visit.append((row,0))\n",
    "        pixels_to_visit.append((row,image.shape[1]-1))\n",
    "    for col in range(image.shape[1]):\n",
    "        pixels_to_visit.append((0,col))\n",
    "        pixels_to_visit.append((image.shape[0]-1,col))\n",
    "    while len(pixels_to_visit):\n",
    "        next_pixel = pixels_to_visit.popleft()\n",
    "        if next_pixel not in visited_pixels:\n",
    "            visited_pixels.add(next_pixel)\n",
    "            if np.linalg.norm(image[*next_pixel] - [0,0,0]) < norm_threshold: # threshold darkness to be black, so it's removable\n",
    "                image[*next_pixel] = [0,0,0]\n",
    "                for row_delta in (-1,0,1):\n",
    "                    for col_delta in (-1,0,1):\n",
    "                        if (0 <= next_pixel[0] + row_delta < image.shape[0]) and (0 <= next_pixel[1] + col_delta < image.shape[1]): # within bounds\n",
    "                            pixels_to_visit.append((next_pixel[0] + row_delta, next_pixel[1] + col_delta))\n",
    "            elif ((image.shape[0]-1) - next_pixel[0] < 2) or ((image.shape[1]-1) - next_pixel[1] < 2): # account for weird border in dataset\n",
    "                image[*next_pixel] = [0,0,0]\n",
    "    return image"
   ]
  },
  {
   "cell_type": "code",
   "execution_count": 127,
   "id": "49a61e13-58a3-42e2-ac64-142fb4a6aaf0",
   "metadata": {},
   "outputs": [],
   "source": [
    "def generate_xml(filename, path, image_shape, sign, bounds):\n",
    "    return '''<annotation>\n",
    "    <folder>xml</folder>\n",
    "    <filename>''' + filename + '''</filename>\n",
    "    <path>''' + path + '''</path>\n",
    "    <source>\n",
    "        <database>Unknown</database>\n",
    "    </source>\n",
    "    <size>\n",
    "        <width>''' + str(image_shape[1]) + '''</width>\n",
    "        <height>''' + str(image_shape[0]) + '''</height>\n",
    "        <depth>''' + str(image_shape[2]) + '''</depth>\n",
    "    </size>\n",
    "    <segmented>0</segmented>\n",
    "    <object>\n",
    "        <name>''' + sign + '''</name>\n",
    "        <pose>Unspecified</pose>\n",
    "        <truncated>0</truncated>\n",
    "        <difficult>0</difficult>\n",
    "        <bndbox>\n",
    "            <xmin>''' + str(bounds[0]) + '''</xmin>\n",
    "            <ymin>''' + str(bounds[1]) + '''</ymin>\n",
    "            <xmax>''' + str(bounds[2]) + '''</xmax>\n",
    "            <ymax>''' + str(bounds[3]) + '''</ymax>\n",
    "        </bndbox>\n",
    "    </object>\n",
    "</annotation>'''"
   ]
  },
  {
   "cell_type": "code",
   "execution_count": 134,
   "id": "39a98ede-1ec6-4788-bd9c-6d2eaac6705d",
   "metadata": {
    "scrolled": true
   },
   "outputs": [],
   "source": [
    "# Loading a sample image \n",
    "def process_sign(sign, total_samples=None, iterations_per_sample=10):\n",
    "    sign_input_dir = os.path.join(cwd, 'pathikreet_dataset', sign)\n",
    "    sign_output_img_dir = os.path.join(cwd, 'param_dataset', 'img', sign)\n",
    "    sign_output_xml_dir = os.path.join(cwd, 'param_dataset', 'xml', sign)\n",
    "    os.makedirs(sign_output_img_dir, exist_ok=True)  # make output directory if it doesn't exist\n",
    "    os.makedirs(sign_output_xml_dir, exist_ok=True)  # make output directory if it doesn't exist\n",
    "    background_dir = os.path.join(cwd, 'backgrounds')\n",
    "    \n",
    "    all_filenames = os.listdir(sign_input_dir)\n",
    "    if total_samples is None:\n",
    "        total_samples = len(all_filenames)   \n",
    "    total_samples = min(total_samples, len(all_filenames))\n",
    "    for img_filename in tqdm(random.sample(all_filenames, total_samples)):\n",
    "        hand_img = load_img(os.path.join(sign_input_dir, img_filename))\n",
    "        hand_img = hand_img.resize((128,128))\n",
    "        background_img = load_img(os.path.join(background_dir, random.choice(os.listdir(background_dir)))) \n",
    "        background_img = background_img.resize((480, 270))\n",
    "        # Converting the input sample image to an array\n",
    "        hand_array = img_to_array(hand_img)\n",
    "        bg_array = img_to_array(background_img)\n",
    "        pad_by = int(hand_array.shape[0]*0.5)\n",
    "        \n",
    "        hand_array_thresholded = threshold_dark_background(hand_array)\n",
    "        \n",
    "        hand_array_padded = np.pad(hand_array_thresholded, ((pad_by,pad_by),(pad_by,pad_by),(0,0)), mode='constant')  # pads black values along the side of the hands\n",
    "        \n",
    "        # Reshaping the input image\n",
    "        hand_array_padded = np.expand_dims(hand_array_padded, axis=0) \n",
    "        \n",
    "        iteration = 0\n",
    "        for deformed_image_list in datagen.flow(hand_array_padded, batch_size = 1,\n",
    "                                  # save_to_dir = os.path.join(cwd,'preview'), \n",
    "                                  # save_prefix ='image', save_format ='jpeg'\n",
    "                                 ):\n",
    "            if iteration >= iterations_per_sample:\n",
    "                break\n",
    "            \n",
    "            deformed_image = deformed_image_list[0]\n",
    "            min_r, min_c, max_r, max_c = get_nonzero_sub_image(deformed_image)  # crops out black borders on every side\n",
    "            deformed_image_cropped = deformed_image[min_r:max_r+1, min_c:max_c+1, :]\n",
    "        \n",
    "            final_processed_array = np.copy(bg_array)\n",
    "        \n",
    "            hand_y_placement = np.random.randint(0, final_processed_array.shape[0] - deformed_image_cropped.shape[0])\n",
    "            hand_x_placement = np.random.randint(0, final_processed_array.shape[1] - deformed_image_cropped.shape[1])\n",
    "        \n",
    "            for r in range(deformed_image_cropped.shape[0]):\n",
    "                for c in range(deformed_image_cropped.shape[1]):\n",
    "                    if max(deformed_image_cropped[r,c,:]) > 0:  # nonzero (non-black) pixel\n",
    "                        final_processed_array[hand_y_placement + r, hand_x_placement + c,:] = deformed_image_cropped[r,c,:]\n",
    "        \n",
    "            bounds = (hand_x_placement, hand_y_placement, hand_x_placement + deformed_image_cropped.shape[1], hand_y_placement + deformed_image_cropped.shape[0])\n",
    "            final_processed_img = array_to_img(final_processed_array)\n",
    "\n",
    "            output_filename = sign + \"_\" + Path(img_filename).stem + \"_\" + str(iteration)\n",
    "            output_img_filename = output_filename+'.jpg'\n",
    "            output_img_path = os.path.join(sign_output_img_dir, output_img_filename)\n",
    "            output_xml_path = os.path.join(sign_output_xml_dir, output_filename+'.xml')\n",
    "                        \n",
    "            final_processed_img.save(output_img_path)\n",
    "            corresponding_xml_text = generate_xml(output_img_filename, output_img_path, final_processed_array.shape, sign, bounds)\n",
    "            with open(output_xml_path, \"w+\") as xml_outfile:\n",
    "                xml_outfile.write(corresponding_xml_text)\n",
    "            \n",
    "            iteration += 1"
   ]
  },
  {
   "cell_type": "code",
   "execution_count": 132,
   "id": "4b955708-5ba7-4dcc-8891-dfc8e897909c",
   "metadata": {},
   "outputs": [
    {
     "name": "stdout",
     "output_type": "stream",
     "text": [
      "Processing signs for 1\n"
     ]
    },
    {
     "name": "stderr",
     "output_type": "stream",
     "text": [
      "100%|████████████████████████████████████████████████████████████████████████████████| 256/256 [01:01<00:00,  4.19it/s]\n"
     ]
    },
    {
     "name": "stdout",
     "output_type": "stream",
     "text": [
      "Processing signs for 2\n"
     ]
    },
    {
     "name": "stderr",
     "output_type": "stream",
     "text": [
      "100%|████████████████████████████████████████████████████████████████████████████████| 256/256 [00:58<00:00,  4.39it/s]\n"
     ]
    },
    {
     "name": "stdout",
     "output_type": "stream",
     "text": [
      "Processing signs for 3\n"
     ]
    },
    {
     "name": "stderr",
     "output_type": "stream",
     "text": [
      "100%|████████████████████████████████████████████████████████████████████████████████| 256/256 [00:59<00:00,  4.31it/s]\n"
     ]
    },
    {
     "name": "stdout",
     "output_type": "stream",
     "text": [
      "Processing signs for 4\n"
     ]
    },
    {
     "name": "stderr",
     "output_type": "stream",
     "text": [
      "100%|████████████████████████████████████████████████████████████████████████████████| 256/256 [00:59<00:00,  4.30it/s]\n"
     ]
    },
    {
     "name": "stdout",
     "output_type": "stream",
     "text": [
      "Processing signs for 5\n"
     ]
    },
    {
     "name": "stderr",
     "output_type": "stream",
     "text": [
      "100%|████████████████████████████████████████████████████████████████████████████████| 256/256 [00:58<00:00,  4.40it/s]\n"
     ]
    },
    {
     "name": "stdout",
     "output_type": "stream",
     "text": [
      "Processing signs for 6\n"
     ]
    },
    {
     "name": "stderr",
     "output_type": "stream",
     "text": [
      "100%|████████████████████████████████████████████████████████████████████████████████| 256/256 [00:59<00:00,  4.31it/s]\n"
     ]
    },
    {
     "name": "stdout",
     "output_type": "stream",
     "text": [
      "Processing signs for 7\n"
     ]
    },
    {
     "name": "stderr",
     "output_type": "stream",
     "text": [
      "100%|████████████████████████████████████████████████████████████████████████████████| 256/256 [01:01<00:00,  4.16it/s]\n"
     ]
    },
    {
     "name": "stdout",
     "output_type": "stream",
     "text": [
      "Processing signs for 8\n"
     ]
    },
    {
     "name": "stderr",
     "output_type": "stream",
     "text": [
      "100%|████████████████████████████████████████████████████████████████████████████████| 256/256 [01:00<00:00,  4.20it/s]\n"
     ]
    },
    {
     "name": "stdout",
     "output_type": "stream",
     "text": [
      "Processing signs for 9\n"
     ]
    },
    {
     "name": "stderr",
     "output_type": "stream",
     "text": [
      "100%|████████████████████████████████████████████████████████████████████████████████| 256/256 [01:00<00:00,  4.24it/s]\n"
     ]
    },
    {
     "name": "stdout",
     "output_type": "stream",
     "text": [
      "Processing signs for A\n"
     ]
    },
    {
     "name": "stderr",
     "output_type": "stream",
     "text": [
      "100%|████████████████████████████████████████████████████████████████████████████████| 256/256 [01:03<00:00,  4.02it/s]\n"
     ]
    },
    {
     "name": "stdout",
     "output_type": "stream",
     "text": [
      "Processing signs for B\n"
     ]
    },
    {
     "name": "stderr",
     "output_type": "stream",
     "text": [
      "100%|████████████████████████████████████████████████████████████████████████████████| 256/256 [00:59<00:00,  4.27it/s]\n"
     ]
    },
    {
     "name": "stdout",
     "output_type": "stream",
     "text": [
      "Processing signs for C\n"
     ]
    },
    {
     "name": "stderr",
     "output_type": "stream",
     "text": [
      "100%|████████████████████████████████████████████████████████████████████████████████| 256/256 [01:01<00:00,  4.19it/s]\n"
     ]
    },
    {
     "name": "stdout",
     "output_type": "stream",
     "text": [
      "Processing signs for D\n"
     ]
    },
    {
     "name": "stderr",
     "output_type": "stream",
     "text": [
      "100%|████████████████████████████████████████████████████████████████████████████████| 256/256 [01:00<00:00,  4.22it/s]\n"
     ]
    },
    {
     "name": "stdout",
     "output_type": "stream",
     "text": [
      "Processing signs for E\n"
     ]
    },
    {
     "name": "stderr",
     "output_type": "stream",
     "text": [
      "100%|████████████████████████████████████████████████████████████████████████████████| 256/256 [00:58<00:00,  4.39it/s]\n"
     ]
    },
    {
     "name": "stdout",
     "output_type": "stream",
     "text": [
      "Processing signs for F\n"
     ]
    },
    {
     "name": "stderr",
     "output_type": "stream",
     "text": [
      "100%|████████████████████████████████████████████████████████████████████████████████| 256/256 [01:03<00:00,  4.06it/s]\n"
     ]
    },
    {
     "name": "stdout",
     "output_type": "stream",
     "text": [
      "Processing signs for G\n"
     ]
    },
    {
     "name": "stderr",
     "output_type": "stream",
     "text": [
      "100%|████████████████████████████████████████████████████████████████████████████████| 256/256 [00:59<00:00,  4.27it/s]\n"
     ]
    },
    {
     "name": "stdout",
     "output_type": "stream",
     "text": [
      "Processing signs for H\n"
     ]
    },
    {
     "name": "stderr",
     "output_type": "stream",
     "text": [
      "100%|████████████████████████████████████████████████████████████████████████████████| 256/256 [00:56<00:00,  4.53it/s]\n"
     ]
    },
    {
     "name": "stdout",
     "output_type": "stream",
     "text": [
      "Processing signs for I\n"
     ]
    },
    {
     "name": "stderr",
     "output_type": "stream",
     "text": [
      "100%|████████████████████████████████████████████████████████████████████████████████| 256/256 [01:01<00:00,  4.16it/s]\n"
     ]
    },
    {
     "name": "stdout",
     "output_type": "stream",
     "text": [
      "Processing signs for J\n"
     ]
    },
    {
     "name": "stderr",
     "output_type": "stream",
     "text": [
      "100%|████████████████████████████████████████████████████████████████████████████████| 256/256 [01:02<00:00,  4.08it/s]\n"
     ]
    },
    {
     "name": "stdout",
     "output_type": "stream",
     "text": [
      "Processing signs for K\n"
     ]
    },
    {
     "name": "stderr",
     "output_type": "stream",
     "text": [
      "100%|████████████████████████████████████████████████████████████████████████████████| 256/256 [01:07<00:00,  3.78it/s]\n"
     ]
    },
    {
     "name": "stdout",
     "output_type": "stream",
     "text": [
      "Processing signs for L\n"
     ]
    },
    {
     "name": "stderr",
     "output_type": "stream",
     "text": [
      "100%|████████████████████████████████████████████████████████████████████████████████| 256/256 [01:01<00:00,  4.18it/s]\n"
     ]
    },
    {
     "name": "stdout",
     "output_type": "stream",
     "text": [
      "Processing signs for M\n"
     ]
    },
    {
     "name": "stderr",
     "output_type": "stream",
     "text": [
      "100%|████████████████████████████████████████████████████████████████████████████████| 256/256 [01:03<00:00,  4.01it/s]\n"
     ]
    },
    {
     "name": "stdout",
     "output_type": "stream",
     "text": [
      "Processing signs for N\n"
     ]
    },
    {
     "name": "stderr",
     "output_type": "stream",
     "text": [
      "100%|████████████████████████████████████████████████████████████████████████████████| 256/256 [01:02<00:00,  4.06it/s]\n"
     ]
    },
    {
     "name": "stdout",
     "output_type": "stream",
     "text": [
      "Processing signs for O\n"
     ]
    },
    {
     "name": "stderr",
     "output_type": "stream",
     "text": [
      "100%|████████████████████████████████████████████████████████████████████████████████| 256/256 [01:00<00:00,  4.23it/s]\n"
     ]
    },
    {
     "name": "stdout",
     "output_type": "stream",
     "text": [
      "Processing signs for P\n"
     ]
    },
    {
     "name": "stderr",
     "output_type": "stream",
     "text": [
      "100%|████████████████████████████████████████████████████████████████████████████████| 256/256 [01:06<00:00,  3.85it/s]\n"
     ]
    },
    {
     "name": "stdout",
     "output_type": "stream",
     "text": [
      "Processing signs for Q\n"
     ]
    },
    {
     "name": "stderr",
     "output_type": "stream",
     "text": [
      "100%|████████████████████████████████████████████████████████████████████████████████| 256/256 [01:13<00:00,  3.47it/s]\n"
     ]
    },
    {
     "name": "stdout",
     "output_type": "stream",
     "text": [
      "Processing signs for R\n"
     ]
    },
    {
     "name": "stderr",
     "output_type": "stream",
     "text": [
      "100%|████████████████████████████████████████████████████████████████████████████████| 256/256 [01:01<00:00,  4.16it/s]\n"
     ]
    },
    {
     "name": "stdout",
     "output_type": "stream",
     "text": [
      "Processing signs for S\n"
     ]
    },
    {
     "name": "stderr",
     "output_type": "stream",
     "text": [
      "100%|████████████████████████████████████████████████████████████████████████████████| 256/256 [00:58<00:00,  4.37it/s]\n"
     ]
    },
    {
     "name": "stdout",
     "output_type": "stream",
     "text": [
      "Processing signs for T\n"
     ]
    },
    {
     "name": "stderr",
     "output_type": "stream",
     "text": [
      "100%|████████████████████████████████████████████████████████████████████████████████| 256/256 [01:02<00:00,  4.12it/s]\n"
     ]
    },
    {
     "name": "stdout",
     "output_type": "stream",
     "text": [
      "Processing signs for U\n"
     ]
    },
    {
     "name": "stderr",
     "output_type": "stream",
     "text": [
      "100%|████████████████████████████████████████████████████████████████████████████████| 256/256 [01:01<00:00,  4.17it/s]\n"
     ]
    },
    {
     "name": "stdout",
     "output_type": "stream",
     "text": [
      "Processing signs for V\n"
     ]
    },
    {
     "name": "stderr",
     "output_type": "stream",
     "text": [
      "100%|████████████████████████████████████████████████████████████████████████████████| 256/256 [01:00<00:00,  4.24it/s]\n"
     ]
    },
    {
     "name": "stdout",
     "output_type": "stream",
     "text": [
      "Processing signs for W\n"
     ]
    },
    {
     "name": "stderr",
     "output_type": "stream",
     "text": [
      "100%|████████████████████████████████████████████████████████████████████████████████| 256/256 [00:59<00:00,  4.29it/s]\n"
     ]
    },
    {
     "name": "stdout",
     "output_type": "stream",
     "text": [
      "Processing signs for X\n"
     ]
    },
    {
     "name": "stderr",
     "output_type": "stream",
     "text": [
      "100%|████████████████████████████████████████████████████████████████████████████████| 256/256 [01:02<00:00,  4.08it/s]\n"
     ]
    },
    {
     "name": "stdout",
     "output_type": "stream",
     "text": [
      "Processing signs for Y\n"
     ]
    },
    {
     "name": "stderr",
     "output_type": "stream",
     "text": [
      "100%|████████████████████████████████████████████████████████████████████████████████| 256/256 [01:05<00:00,  3.89it/s]\n"
     ]
    },
    {
     "name": "stdout",
     "output_type": "stream",
     "text": [
      "Processing signs for Z\n"
     ]
    },
    {
     "name": "stderr",
     "output_type": "stream",
     "text": [
      "100%|████████████████████████████████████████████████████████████████████████████████| 256/256 [01:03<00:00,  4.01it/s]"
     ]
    },
    {
     "name": "stdout",
     "output_type": "stream",
     "text": [
      "Processing signs for none\n"
     ]
    },
    {
     "name": "stderr",
     "output_type": "stream",
     "text": [
      "\n"
     ]
    },
    {
     "ename": "ValueError",
     "evalue": "Sample larger than population or is negative",
     "output_type": "error",
     "traceback": [
      "\u001b[1;31m---------------------------------------------------------------------------\u001b[0m",
      "\u001b[1;31mValueError\u001b[0m                                Traceback (most recent call last)",
      "Cell \u001b[1;32mIn[132], line 4\u001b[0m\n\u001b[0;32m      2\u001b[0m \u001b[38;5;28;01mfor\u001b[39;00m sign \u001b[38;5;129;01min\u001b[39;00m all_signs:\n\u001b[0;32m      3\u001b[0m     \u001b[38;5;28mprint\u001b[39m(\u001b[38;5;124m\"\u001b[39m\u001b[38;5;124mProcessing signs for\u001b[39m\u001b[38;5;124m\"\u001b[39m, sign)\n\u001b[1;32m----> 4\u001b[0m     \u001b[43mprocess_sign\u001b[49m\u001b[43m(\u001b[49m\u001b[43msign\u001b[49m\u001b[43m,\u001b[49m\u001b[43m \u001b[49m\u001b[43mtotal_samples\u001b[49m\u001b[38;5;241;43m=\u001b[39;49m\u001b[38;5;241;43m256\u001b[39;49m\u001b[43m,\u001b[49m\u001b[43m \u001b[49m\u001b[43miterations_per_sample\u001b[49m\u001b[38;5;241;43m=\u001b[39;49m\u001b[38;5;241;43m1\u001b[39;49m\u001b[43m)\u001b[49m\n",
      "Cell \u001b[1;32mIn[130], line 13\u001b[0m, in \u001b[0;36mprocess_sign\u001b[1;34m(sign, total_samples, iterations_per_sample)\u001b[0m\n\u001b[0;32m     11\u001b[0m \u001b[38;5;28;01mif\u001b[39;00m total_samples \u001b[38;5;129;01mis\u001b[39;00m \u001b[38;5;28;01mNone\u001b[39;00m:\n\u001b[0;32m     12\u001b[0m     total_samples \u001b[38;5;241m=\u001b[39m \u001b[38;5;28mlen\u001b[39m(all_filenames)         \n\u001b[1;32m---> 13\u001b[0m \u001b[38;5;28;01mfor\u001b[39;00m img_filename \u001b[38;5;129;01min\u001b[39;00m tqdm(\u001b[43mrandom\u001b[49m\u001b[38;5;241;43m.\u001b[39;49m\u001b[43msample\u001b[49m\u001b[43m(\u001b[49m\u001b[43mall_filenames\u001b[49m\u001b[43m,\u001b[49m\u001b[43m \u001b[49m\u001b[43mtotal_samples\u001b[49m\u001b[43m)\u001b[49m):\n\u001b[0;32m     14\u001b[0m     hand_img \u001b[38;5;241m=\u001b[39m load_img(os\u001b[38;5;241m.\u001b[39mpath\u001b[38;5;241m.\u001b[39mjoin(sign_input_dir, img_filename))\n\u001b[0;32m     15\u001b[0m     hand_img \u001b[38;5;241m=\u001b[39m hand_img\u001b[38;5;241m.\u001b[39mresize((\u001b[38;5;241m128\u001b[39m,\u001b[38;5;241m128\u001b[39m))\n",
      "File \u001b[1;32mC:\\Python\\Python311\\Lib\\random.py:456\u001b[0m, in \u001b[0;36mRandom.sample\u001b[1;34m(self, population, k, counts)\u001b[0m\n\u001b[0;32m    454\u001b[0m randbelow \u001b[38;5;241m=\u001b[39m \u001b[38;5;28mself\u001b[39m\u001b[38;5;241m.\u001b[39m_randbelow\n\u001b[0;32m    455\u001b[0m \u001b[38;5;28;01mif\u001b[39;00m \u001b[38;5;129;01mnot\u001b[39;00m \u001b[38;5;241m0\u001b[39m \u001b[38;5;241m<\u001b[39m\u001b[38;5;241m=\u001b[39m k \u001b[38;5;241m<\u001b[39m\u001b[38;5;241m=\u001b[39m n:\n\u001b[1;32m--> 456\u001b[0m     \u001b[38;5;28;01mraise\u001b[39;00m \u001b[38;5;167;01mValueError\u001b[39;00m(\u001b[38;5;124m\"\u001b[39m\u001b[38;5;124mSample larger than population or is negative\u001b[39m\u001b[38;5;124m\"\u001b[39m)\n\u001b[0;32m    457\u001b[0m result \u001b[38;5;241m=\u001b[39m [\u001b[38;5;28;01mNone\u001b[39;00m] \u001b[38;5;241m*\u001b[39m k\n\u001b[0;32m    458\u001b[0m setsize \u001b[38;5;241m=\u001b[39m \u001b[38;5;241m21\u001b[39m        \u001b[38;5;66;03m# size of a small set minus size of an empty list\u001b[39;00m\n",
      "\u001b[1;31mValueError\u001b[0m: Sample larger than population or is negative"
     ]
    }
   ],
   "source": [
    "all_signs = [str(x) for x in range(1,10)] + list(string.ascii_uppercase) + ['none']\n",
    "for sign in all_signs:\n",
    "    print(\"Processing signs for\", sign)\n",
    "    process_sign(sign, total_samples=256, iterations_per_sample=1)"
   ]
  }
 ],
 "metadata": {
  "kernelspec": {
   "display_name": "Python 3 (ipykernel)",
   "language": "python",
   "name": "python3"
  },
  "language_info": {
   "codemirror_mode": {
    "name": "ipython",
    "version": 3
   },
   "file_extension": ".py",
   "mimetype": "text/x-python",
   "name": "python",
   "nbconvert_exporter": "python",
   "pygments_lexer": "ipython3",
   "version": "3.11.4"
  }
 },
 "nbformat": 4,
 "nbformat_minor": 5
}
